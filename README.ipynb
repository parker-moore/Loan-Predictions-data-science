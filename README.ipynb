Click below to see my work
https://nbviewer.jupyter.org/github/parker-moore/Loan-Predictions-data-science/blob/master/Loan%20Kernel.ipynb
